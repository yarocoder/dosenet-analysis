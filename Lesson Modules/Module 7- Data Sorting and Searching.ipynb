{
 "cells": [
  {
   "cell_type": "markdown",
   "metadata": {},
   "source": [
    "#### Module 7- Data Sorting and Searching\n",
    "\n",
    "Computer scripts excel at performing repetetive tasks that would normally be tedious or uninteresting to do by hand.  Therer are many useful jobs that programs can perform, but in this module I will demonstrate three common data-processing techniques: sorting, searching, and manipulating. These jobs are fundamental functions of computer scripts and are encountered in nearly any field of computational data analysis.\n",
    "\n",
    "Also, this module requires a strong familiarity and comprehension of indexing in Python.  If you are not fully comfortable with list indices, you can find introductory material on Python lists online.\n",
    "\n",
    "For this module I will be using AirMonitor's archived weather data from July 23, 2015 to July 23, 2016:\n",
    "https://www.wunderground.com/history/airport/KOAK/2015/7/23/CustomHistory.html?dayend=23&monthend=7&yearend=2016&req_city=&req_state=&req_statename=&reqdb.zip=&reqdb.magic=&reqdb.wmo=&format=1"
   ]
  },
  {
   "cell_type": "code",
   "execution_count": 1,
   "metadata": {
    "collapsed": true
   },
   "outputs": [],
   "source": [
    "import csv\n",
    "import io\n",
    "import urllib.request            \n",
    "import numpy as np\n",
    "import matplotlib.pyplot as plt\n",
    "from datetime import datetime\n",
    "\n",
    "url = 'https://www.wunderground.com/history/airport/KOAK/2015/7/23/CustomHistory.html?dayend=23&monthend=7&yearend=2016&req_city=&req_state=&req_statename=&reqdb.zip=&reqdb.magic=&reqdb.wmo=&format=1'\n",
    "response= urllib.request.urlopen(url)\n",
    "reader = csv.reader(io.TextIOWrapper(response)) \n",
    "datalist = []\n",
    "timedata = []\n",
    "meantemp = []    \n",
    "meanwind = []\n",
    "rain = []\n",
    "line = 0\n",
    "\n",
    "for row in reader:\n",
    "    if line != 0:\n",
    "        datalist.append(row)  # intermediate step of piling data into one list because url is in a comma-delimited format.\n",
    "    line += 1\n",
    "     \n",
    "for i in range(len(datalist)):\n",
    "    if i !=0:\n",
    "        timedata.append(datetime.strptime(datalist[i][0], '%Y-%m-%d'))\n",
    "        meantemp.append(float(datalist[i][2]))\n",
    "        meanwind.append(float(datalist[i][17]))\n",
    "        rain.append(datalist[i][19])\n",
    "        \n",
    "data = np.array((timedata,meantemp,meanwind,rain))\n",
    "    # now all the data is gathered in a multidimensional array in which the 1st column has dates, 2nd column \n",
    "    # has mean temperature, 3rd column has mean wind velocity, and 4th column has precipitation data."
   ]
  },
  {
   "cell_type": "code",
   "execution_count": 2,
   "metadata": {
    "collapsed": false
   },
   "outputs": [],
   "source": [
    "def sort_func(type):\n",
    "    # INPUT: type is a string, either 'temp,'wind', or 'rain' to determine how how the list array is sorted\n",
    "    if type == 'temp':\n",
    "        sorted_index = np.argsort(data[1]) # argsort outputs a sorted list of indices from lowest to highest for the (1+1)nd row\n",
    "        sorted_data = data[:,sorted_index] # which is used to sort the columns in the multi-dimensional array\n",
    "    elif type == 'wind':\n",
    "        sorted_index = np.argsort(data[2]) # outputs a sorted list of indices from lowest to highest for the (1+2)rd row\n",
    "        sorted_data = data[:,sorted_index]\n",
    "    elif type == 'rain':\n",
    "        sorted_index = np.argsort(data[3]) # outputs a sorted list of indices from lowest to highest for the (1+3)th row\n",
    "        sorted_data = data[:,sorted_index]\n",
    "    else:\n",
    "        print('invalid input string')\n",
    "    return sorted_data                     # module outputs the sorted_data"
   ]
  },
  {
   "cell_type": "markdown",
   "metadata": {},
   "source": [
    "The command below prints the first 9 columns of sort_func('temp'), excluding the first row.  I ignore the first row of dates because it clutters the array with datetime information, but you can change to the index to [:,:9] to include it.  Finally, I utilize the repr function to print the data in a cleaner array format.\n",
    "\n",
    "In order to make this information more concrete: notice how the data with the coldest days (1st row) generally correlate with days of rain."
   ]
  },
  {
   "cell_type": "code",
   "execution_count": 3,
   "metadata": {
    "collapsed": false
   },
   "outputs": [
    {
     "name": "stdout",
     "output_type": "stream",
     "text": [
      "array([[32.0, 40.0, 42.0, 42.0, 44.0, 44.0, 44.0, 44.0, 44.0],\n",
      "       [19.0, 4.0, 5.0, 4.0, 6.0, 4.0, 5.0, 7.0, 7.0],\n",
      "       ['0.30', 'T', '0.04', '0.00', '0.00', 'T', '0.00', 'T', '0.00']], dtype=object)\n"
     ]
    }
   ],
   "source": [
    "print(repr(sort_func('temp')[1:,:9]))"
   ]
  },
  {
   "cell_type": "code",
   "execution_count": 4,
   "metadata": {
    "collapsed": false
   },
   "outputs": [
    {
     "name": "stdout",
     "output_type": "stream",
     "text": [
      "array([[53.0, 54.0, 48.0, 54.0, 58.0, 47.0, 56.0, 50.0, 61.0],\n",
      "       [2.0, 3.0, 3.0, 3.0, 3.0, 3.0, 3.0, 3.0, 3.0],\n",
      "       ['0.00', '0.00', 'T', '0.00', '0.25', '0.00', '0.00', '0.00', 'T']], dtype=object)\n"
     ]
    }
   ],
   "source": [
    "print(repr(sort_func('wind')[1:,:9]))"
   ]
  },
  {
   "cell_type": "code",
   "execution_count": 5,
   "metadata": {
    "collapsed": false
   },
   "outputs": [
    {
     "name": "stdout",
     "output_type": "stream",
     "text": [
      "array([[65.0, 59.0, 56.0, 54.0, 59.0, 58.0, 59.0, 58.0],\n",
      "       [13.0, 11.0, 11.0, 8.0, 14.0, 9.0, 6.0, 7.0],\n",
      "       ['0.00', '0.00', '0.00', '0.00', '0.00', '0.00', '0.00', '0.00']], dtype=object)\n"
     ]
    }
   ],
   "source": [
    "print(repr(sort_func('rain')[1:,:8]))"
   ]
  },
  {
   "cell_type": "markdown",
   "metadata": {},
   "source": [
    "Now that we've performed a basic sorting operation, let's make a function that searches in which rainfall is detected (including trace amounts of rainfall, 'T').  To do this, we can use a technique called list comprehension to compile indices that fulfill our requirements.  The list comprehension command I use is:\n",
    "\n",
    "    indices = [i for i, target in enumerate(rainfall) if target > 0]\n",
    "    \n",
    "which breaks down to:\n",
    "\n",
    "    indices = []                               # initialize with an empty list\n",
    "        for i, target in enumerate(my_list):\n",
    "            if target > 0\n",
    "                indices.append(i)"
   ]
  },
  {
   "cell_type": "code",
   "execution_count": 6,
   "metadata": {
    "collapsed": false
   },
   "outputs": [
    {
     "name": "stdout",
     "output_type": "stream",
     "text": [
      "[[65.0 71.0 68.0 67.0 66.0 61.0 66.0 67.0 64.0 63.0 55.0 46.0 44.0 54.0\n",
      "  60.0 51.0 56.0 52.0 40.0 44.0 52.0 50.0 48.0 53.0 53.0 52.0 55.0 50.0\n",
      "  49.0 56.0 59.0 60.0 62.0 51.0 58.0 56.0 55.0 57.0 63.0 62.0 61.0 62.0\n",
      "  64.0 64.0 65.0 63.0 66.0 61.0 62.0 64.0 63.0 58.0 54.0 32.0 53.0 46.0\n",
      "  50.0 56.0 51.0 52.0 52.0 46.0 54.0 48.0 42.0 55.0 52.0 51.0 53.0 50.0\n",
      "  53.0 56.0 58.0 58.0 57.0 57.0 55.0 58.0 61.0 57.0 62.0 61.0 57.0 54.0]\n",
      " [8.0 11.0 8.0 14.0 12.0 3.0 7.0 9.0 4.0 6.0 8.0 7.0 4.0 5.0 5.0 5.0 20.0\n",
      "  12.0 4.0 7.0 7.0 5.0 3.0 8.0 7.0 4.0 10.0 10.0 4.0 9.0 7.0 7.0 6.0 7.0\n",
      "  6.0 17.0 10.0 13.0 8.0 13.0 14.0 13.0 9.0 8.0 14.0 13.0 9.0 13.0 10.0\n",
      "  14.0 6.0 8.0 13.0 19.0 14.0 5.0 10.0 10.0 8.0 18.0 9.0 12.0 14.0 12.0 5.0\n",
      "  8.0 11.0 13.0 12.0 9.0 5.0 6.0 10.0 3.0 12.0 13.0 14.0 9.0 18.0 12.0 8.0\n",
      "  19.0 17.0 11.0]\n",
      " ['T' 'T' 'T' 'T' 'T' 'T' 'T' 'T' 'T' 'T' 'T' 'T' 'T' 'T' 'T' 'T' 'T' 'T'\n",
      "  'T' 'T' 'T' 'T' 'T' 'T' 'T' 'T' 'T' 'T' 'T' 'T' 'T' 'T' 'T' 'T' 'T' 'T'\n",
      "  'T' 'T' 'T' 'T' 'T' 'T' 'T' 'T' 'T' 'T' 'T' 'T' 'T' 'T' '0.04' '0.31'\n",
      "  '0.29' '0.30' '0.12' '0.05' '0.13' '0.30' '0.06' '0.59' '0.04' '0.13'\n",
      "  '0.18' '0.14' '0.04' '0.08' '0.36' '0.51' '0.06' '0.02' '0.04' '0.02'\n",
      "  '0.67' '0.25' '0.43' '0.15' '0.01' '0.01' '0.07' '0.07' '0.06' '0.86'\n",
      "  '0.36' '0.18']]\n"
     ]
    }
   ],
   "source": [
    "def search_func(data):\n",
    "    rainfall = list(data[3:,].flatten())\n",
    "    indices_trace = [i for i, target in enumerate(rainfall) if target == 'T']\n",
    "    \n",
    "    # Next, we replace indices where 'T' appears with 0 so it doesn't interfere with next search\n",
    "    for index in indices_trace:\n",
    "        rainfall[index] = 0\n",
    "    \n",
    "    # Lastly, we convert list to floating values so we can compare values them numerically\n",
    "    rainfall = [float(j) for j in rainfall]           \n",
    "    indices_rain = [i for i, target in enumerate(rainfall) if target > 0]\n",
    "    \n",
    "    # When we combine the two indices, we place T before the numerical values\n",
    "    search_index = indices_trace + indices_rain\n",
    "    return search_index\n",
    "\n",
    "print(data[1:,search_func(data)])"
   ]
  }
 ],
 "metadata": {
  "anaconda-cloud": {},
  "kernelspec": {
   "display_name": "Python [Root]",
   "language": "python",
   "name": "Python [Root]"
  },
  "language_info": {
   "codemirror_mode": {
    "name": "ipython",
    "version": 3
   },
   "file_extension": ".py",
   "mimetype": "text/x-python",
   "name": "python",
   "nbconvert_exporter": "python",
   "pygments_lexer": "ipython3",
   "version": "3.5.2"
  }
 },
 "nbformat": 4,
 "nbformat_minor": 0
}
