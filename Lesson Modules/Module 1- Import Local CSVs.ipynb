{
 "cells": [
  {
   "cell_type": "markdown",
   "metadata": {},
   "source": [
    "#### Module 1- Import Local CSVs\n",
    "author: Radley Rigonan\n",
    "\n",
    "This is an example of reading and importing .CSV files stored in your device onto Python.  Comma separated values (.CSV) is a filetype that stores tabular data in plaintext. It is a  widely standard format used in spreadsheets, data storage, and data exchange.\n",
    "\n",
    "In this module, I will be using lbl.csv which can be downloaded from the following link:\n",
    "http://radwatch.berkeley.edu/sites/default/files/dosenet/lbl.csv"
   ]
  },
  {
   "cell_type": "code",
   "execution_count": 1,
   "metadata": {
    "collapsed": true
   },
   "outputs": [],
   "source": [
    "import csv      # module used for reading and converting .CSV files\n",
    "import os       # module that enables local operating system dependent commands"
   ]
  },
  {
   "cell_type": "markdown",
   "metadata": {},
   "source": [
    "Normally, you're file of interest is not located in the default working directory of Python. os.chdir() changes the working directory so we can open our file of interest."
   ]
  },
  {
   "cell_type": "code",
   "execution_count": 2,
   "metadata": {
    "collapsed": false
   },
   "outputs": [],
   "source": [
    "filepath = 'C:/Users/Radley/Downloads/' # store file location as a string\n",
    "filename = 'lbl.csv'                   # store the file name as a string"
   ]
  },
  {
   "cell_type": "markdown",
   "metadata": {},
   "source": [
    "The following module will read the CSV with csv.reader and display the data in your console one row at a time. This display command inserts a comma and space between each data entry, effectively reprinting the .CSV in your Python console."
   ]
  },
  {
   "cell_type": "code",
   "execution_count": 3,
   "metadata": {
    "collapsed": false
   },
   "outputs": [],
   "source": [
    "def printlocalCSV(filepath, filename):\n",
    "    file = os.path.join(filepath,filename)      # join filepath/name into one string\n",
    "    csvfile = open(file)                 # open the file with Python\n",
    "    reader = csv.reader(csvfile)         # read the CSV with csv.reader\n",
    "    for row in reader:                   # for every row in the CSV...\n",
    "        print(', '.join(row))            \n",
    "            # Display/print the CSV with a comma and space separating each element\n",
    "    csvfile.close()                      # close the file"
   ]
  },
  {
   "cell_type": "markdown",
   "metadata": {},
   "source": [
    "The following module is an example of reading a CSV and importing the data as variables in Python.  In many circumstances, you will want to import the data so that it can be used in Python.  In addition, I use csv.reader with different, more efficient syntax:    "
   ]
  },
  {
   "cell_type": "code",
   "execution_count": 4,
   "metadata": {
    "collapsed": false
   },
   "outputs": [],
   "source": [
    "def importlocalCSV(filepath, filename):\n",
    "    datetime = []               \n",
    "    cpm = []\n",
    "        # Set up an empty lists so you can place the data into it.\n",
    "    line = 0                    \n",
    "        # We want to ignore the 1st row of headers, so we set a variable to \n",
    "        # count the row we are iterating on.\n",
    "        \n",
    "    file = os.path.join(filepath,filename)\n",
    "    with open(file) as csvfile:\n",
    "        # It is good practice to use the with statement when dealing with files\n",
    "        # because it automatically closes the file after the nested lines\n",
    "        # This with command performs same function as csvfile = open(file)\n",
    "        \n",
    "        reader = csv.reader(csvfile)\n",
    "        for row in reader:\n",
    "            if line != 0:       \n",
    "                # Conditional statement to ignore first row of headers\n",
    "                datetime.append(row[0])     \n",
    "                    # Append means ATTACH.  We are attaching data in the 1st \n",
    "                    # column to our list, row by row\n",
    "                cpm.append(float(row[6]))   \n",
    "                    # The command float records each element as a numerical \n",
    "                    # value rather than a character string.\n",
    "            line = line + 1                 \n",
    "                    # Progress iteration forward by adding +1 to line\n",
    "    return datetime, cpm"
   ]
  }
 ],
 "metadata": {
  "anaconda-cloud": {},
  "kernelspec": {
   "display_name": "Python [Root]",
   "language": "python",
   "name": "Python [Root]"
  },
  "language_info": {
   "codemirror_mode": {
    "name": "ipython",
    "version": 3
   },
   "file_extension": ".py",
   "mimetype": "text/x-python",
   "name": "python",
   "nbconvert_exporter": "python",
   "pygments_lexer": "ipython3",
   "version": "3.5.2"
  }
 },
 "nbformat": 4,
 "nbformat_minor": 0
}
