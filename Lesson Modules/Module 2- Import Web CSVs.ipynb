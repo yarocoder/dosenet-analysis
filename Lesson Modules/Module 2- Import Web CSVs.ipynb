{
 "cells": [
  {
   "cell_type": "markdown",
   "metadata": {},
   "source": [
    "#### Module 2- Import Web CSVs\n",
    "author: Radley Rigonan\n",
    "\n",
    "This is an example of reading and importing .CSV files from a direct download link (DDL).  DDLs are hyperlinks that point to a file that will immediately be downloaded by your internet browser.\n",
    "\n",
    "In this module, I will be using lbl.csv which can be accessed from the following link.\n",
    "http://radwatch.berkeley.edu/sites/default/files/dosenet/lbl.csv"
   ]
  },
  {
   "cell_type": "code",
   "execution_count": 1,
   "metadata": {
    "collapsed": true
   },
   "outputs": [],
   "source": [
    "import csv\n",
    "import io\n",
    "import urllib.request     \n",
    "url = 'https://radwatch.berkeley.edu/sites/default/files/dosenet/lbl.csv'"
   ]
  },
  {
   "cell_type": "markdown",
   "metadata": {},
   "source": [
    "The io module allows Python to deal with objects formatted as bytes. Web sources are usually formatted in HTTP/bytes, rendering it incompatible with default Python modules.\n",
    "The urllib module provides an interface to fetch data from the Internet.\n",
    "\n",
    "The following lines will: access the DDL, makes the file compatible to Python, and prints the CSV.  Take note that only the first two lines are different from reading a .CSV from your local disk storage."
   ]
  },
  {
   "cell_type": "code",
   "execution_count": 2,
   "metadata": {
    "collapsed": true
   },
   "outputs": [],
   "source": [
    "def printwebCSV(url):\n",
    "    response = urllib.request.urlopen(url)     \n",
    "        # This line will fail without internet access.\n",
    "    csvfile = io.TextIOWrapper(response)\n",
    "        # io.TextIOWrapper decodes HTTP data and encodes the data as string \n",
    "        # objects that can be understood by Python    \n",
    "    reader = csv.reader(csvfile)\n",
    "    for row in reader:\n",
    "        print(', '.join(row))"
   ]
  },
  {
   "cell_type": "markdown",
   "metadata": {},
   "source": [
    "The next commands are an example of importing a CSV from a DDL.  It also uses more compact syntax in order to reduce the number of lines:"
   ]
  },
  {
   "cell_type": "code",
   "execution_count": 3,
   "metadata": {
    "collapsed": true
   },
   "outputs": [],
   "source": [
    "def importwebCSV(url):\n",
    "    response = urllib.request.urlopen(url)\n",
    "    reader = csv.reader(io.TextIOWrapper(response))  \n",
    "    datetime = []    \n",
    "    cpm = []\n",
    "    line = 0\n",
    "    for row in reader:\n",
    "        if line != 0:\n",
    "            datetime.append(row[0])\n",
    "            cpm.append(float(row[6]))\n",
    "        line += 1    \n",
    "        # Python syntax for line = line + 1 (+1 to current value for line)\n",
    "    return (datetime,cpm)"
   ]
  },
  {
   "cell_type": "markdown",
   "metadata": {},
   "source": [
    "This example typifies the overwhelming amount of data that you can handle with Python!  In only a few seconds, this script can record over 60,000 data points in your computer's memory."
   ]
  }
 ],
 "metadata": {
  "anaconda-cloud": {},
  "kernelspec": {
   "display_name": "Python [Root]",
   "language": "python",
   "name": "Python [Root]"
  },
  "language_info": {
   "codemirror_mode": {
    "name": "ipython",
    "version": 3
   },
   "file_extension": ".py",
   "mimetype": "text/x-python",
   "name": "python",
   "nbconvert_exporter": "python",
   "pygments_lexer": "ipython3",
   "version": "3.5.2"
  }
 },
 "nbformat": 4,
 "nbformat_minor": 0
}
